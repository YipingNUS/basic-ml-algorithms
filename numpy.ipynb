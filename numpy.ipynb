{
 "cells": [
  {
   "cell_type": "code",
   "execution_count": 1,
   "id": "128fa078-fbb9-4407-a485-9f73b2a928cd",
   "metadata": {},
   "outputs": [],
   "source": [
    "import numpy as np"
   ]
  },
  {
   "cell_type": "code",
   "execution_count": 5,
   "id": "93cb0574-013e-415d-b47a-c5a0b6fbb969",
   "metadata": {},
   "outputs": [
    {
     "data": {
      "text/plain": [
       "array([[-0.17711847,  0.83494706,  1.59514694,  0.8125408 ],\n",
       "       [ 1.20594751,  0.19507098, -0.96309942,  0.12427439],\n",
       "       [-1.1159942 ,  0.67767695,  0.8236862 ,  0.12230287]])"
      ]
     },
     "execution_count": 5,
     "metadata": {},
     "output_type": "execute_result"
    }
   ],
   "source": [
    "a = np.random.randn(3,4)\n",
    "a"
   ]
  },
  {
   "cell_type": "code",
   "execution_count": 7,
   "id": "74d6e05f-547c-4bab-8d2c-370daae26863",
   "metadata": {},
   "outputs": [
    {
     "data": {
      "text/plain": [
       "array([[-0.17711847,  0.83494706,  1.59514694,  0.8125408 ],\n",
       "       [ 1.20594751,  0.19507098, -0.96309942,  0.12427439],\n",
       "       [-1.1159942 ,  0.67767695,  0.8236862 ,  0.12230287]])"
      ]
     },
     "execution_count": 7,
     "metadata": {},
     "output_type": "execute_result"
    }
   ],
   "source": [
    "b = a[:]\n",
    "b"
   ]
  },
  {
   "cell_type": "code",
   "execution_count": 11,
   "id": "30581cd9-f385-41e1-9008-5b4c81be1d5e",
   "metadata": {},
   "outputs": [
    {
     "data": {
      "text/plain": [
       "array([[-0.17711847,  0.83494706,  1.59514694,  0.8125408 ],\n",
       "       [ 1.20594751,  0.19507098, -0.96309942,  0.12427439],\n",
       "       [-1.1159942 ,  0.67767695,  0.8236862 ,  0.12230287]])"
      ]
     },
     "execution_count": 11,
     "metadata": {},
     "output_type": "execute_result"
    }
   ],
   "source": [
    "b"
   ]
  },
  {
   "cell_type": "code",
   "execution_count": 13,
   "id": "9b21f3b1-411e-49ae-a5e7-1ceba4b4477a",
   "metadata": {},
   "outputs": [
    {
     "data": {
      "text/plain": [
       "array([[3.06551634],\n",
       "       [0.56219346],\n",
       "       [0.50767182]])"
      ]
     },
     "execution_count": 13,
     "metadata": {},
     "output_type": "execute_result"
    }
   ],
   "source": [
    "b.sum(axis=1, keepdims=True)"
   ]
  },
  {
   "cell_type": "code",
   "execution_count": 25,
   "id": "32d27b6f-7d95-4948-876a-728e13d3b5a3",
   "metadata": {},
   "outputs": [
    {
     "data": {
      "text/plain": [
       "(array([[0.76637908],\n",
       "        [0.14054837],\n",
       "        [0.12691795]]),\n",
       " array([[0.62926073],\n",
       "        [0.76752057],\n",
       "        [0.76381827]]))"
      ]
     },
     "execution_count": 25,
     "metadata": {},
     "output_type": "execute_result"
    }
   ],
   "source": [
    "mean, std = b.mean(axis=1, keepdims=True), b.std(axis=1, keepdims=True)\n",
    "mean,std"
   ]
  },
  {
   "cell_type": "code",
   "execution_count": 26,
   "id": "48cf510c-8ea2-4454-9447-f7f34e051ec6",
   "metadata": {},
   "outputs": [
    {
     "data": {
      "text/plain": [
       "array([[-1.4993746 ,  0.10896593,  1.31705002,  0.07335865],\n",
       "       [ 1.38810499,  0.07103734, -1.43793903, -0.02120331],\n",
       "       [-1.62723544,  0.72106025,  0.91221731, -0.00604212]])"
      ]
     },
     "execution_count": 26,
     "metadata": {},
     "output_type": "execute_result"
    }
   ],
   "source": [
    "c = (b-mean)/std\n",
    "c"
   ]
  },
  {
   "cell_type": "code",
   "execution_count": 27,
   "id": "b72196a1-ec18-4f55-908e-82c9690bba94",
   "metadata": {},
   "outputs": [
    {
     "data": {
      "text/plain": [
       "(array([-1.07552856e-16,  7.02563008e-17, -2.68882139e-17]),\n",
       " array([1., 1., 1.]))"
      ]
     },
     "execution_count": 27,
     "metadata": {},
     "output_type": "execute_result"
    }
   ],
   "source": [
    "c.mean(axis=1), c.std(axis=1)"
   ]
  },
  {
   "cell_type": "code",
   "execution_count": 29,
   "id": "829cd605-3da9-455c-a744-a75d54da87a2",
   "metadata": {},
   "outputs": [
    {
     "data": {
      "text/plain": [
       "array([[0., 0., 0., 0.],\n",
       "       [0., 0., 0., 0.],\n",
       "       [0., 0., 0., 0.]])"
      ]
     },
     "execution_count": 29,
     "metadata": {},
     "output_type": "execute_result"
    }
   ],
   "source": [
    "np.zeros_like(c)"
   ]
  },
  {
   "cell_type": "code",
   "execution_count": 32,
   "id": "28910e2e-addf-42e4-8eb8-9b797e477b95",
   "metadata": {},
   "outputs": [
    {
     "data": {
      "text/plain": [
       "array([-1.4993746 ,  0.07103734,  0.91221731])"
      ]
     },
     "execution_count": 32,
     "metadata": {},
     "output_type": "execute_result"
    }
   ],
   "source": [
    "c.diagonal()"
   ]
  },
  {
   "cell_type": "code",
   "execution_count": 34,
   "id": "ad58ede4-6d0b-43e1-8564-03f8e8463949",
   "metadata": {},
   "outputs": [
    {
     "data": {
      "text/plain": [
       "array([ 1.31705002,  0.07103734, -1.62723544])"
      ]
     },
     "execution_count": 34,
     "metadata": {},
     "output_type": "execute_result"
    }
   ],
   "source": [
    "c[np.arange(3), np.arange(2,-1, -1)]"
   ]
  },
  {
   "cell_type": "code",
   "execution_count": 35,
   "id": "d9973371-f529-4db1-9964-60a02d9987d6",
   "metadata": {},
   "outputs": [
    {
     "data": {
      "text/plain": [
       "array([[ 4.        , -3.96894178,  3.71939907],\n",
       "       [-3.96894178,  4.        , -3.5191362 ],\n",
       "       [ 3.71939907, -3.5191362 ,  4.        ]])"
      ]
     },
     "execution_count": 35,
     "metadata": {},
     "output_type": "execute_result"
    }
   ],
   "source": [
    "c.dot(c.T)"
   ]
  },
  {
   "cell_type": "code",
   "execution_count": 36,
   "id": "3e633b6f-3548-4b6b-a9ed-ee6f9a67d281",
   "metadata": {},
   "outputs": [
    {
     "data": {
      "text/plain": [
       "array([[ 6.82285484e+00, -1.23810826e+00, -5.45515402e+00,\n",
       "        -1.29592562e-01],\n",
       "       [-1.23810826e+00,  5.36847767e-01,  6.99129861e-01,\n",
       "         2.13063409e-03],\n",
       "       [-5.45515402e+00,  6.99129861e-01,  4.63442981e+00,\n",
       "         1.21594349e-01],\n",
       "       [-1.29592562e-01,  2.13063409e-03,  1.21594349e-01,\n",
       "         5.86757905e-03]])"
      ]
     },
     "execution_count": 36,
     "metadata": {},
     "output_type": "execute_result"
    }
   ],
   "source": [
    "c.T.dot(c)"
   ]
  },
  {
   "cell_type": "code",
   "execution_count": 37,
   "id": "339c6287-2d6f-4aa0-b6b9-f5415f6e1e6a",
   "metadata": {},
   "outputs": [
    {
     "data": {
      "text/plain": [
       "array([[0, 1, 1, 1],\n",
       "       [1, 1, 0, 0],\n",
       "       [0, 1, 1, 0]])"
      ]
     },
     "execution_count": 37,
     "metadata": {},
     "output_type": "execute_result"
    }
   ],
   "source": [
    "np.where(c>0, 1, 0)"
   ]
  },
  {
   "cell_type": "code",
   "execution_count": 38,
   "id": "16613fe9-6cca-44a2-908a-c654b4dcd81f",
   "metadata": {},
   "outputs": [
    {
     "data": {
      "text/plain": [
       "array([[-1.4993746 ,  0.10896593,  1.31705002,  0.07335865],\n",
       "       [ 1.38810499,  0.07103734, -1.43793903, -0.02120331],\n",
       "       [-1.62723544,  0.72106025,  0.91221731, -0.00604212]])"
      ]
     },
     "execution_count": 38,
     "metadata": {},
     "output_type": "execute_result"
    }
   ],
   "source": [
    "np.empty_like(c)"
   ]
  },
  {
   "cell_type": "code",
   "execution_count": 40,
   "id": "99ebe88d-8100-4d27-a504-5b0019fbfd1e",
   "metadata": {},
   "outputs": [
    {
     "data": {
      "text/plain": [
       "np.float64(0.0)"
      ]
     },
     "execution_count": 40,
     "metadata": {},
     "output_type": "execute_result"
    }
   ],
   "source": [
    "d = np.empty((2,3))\n",
    "d[1,1]"
   ]
  },
  {
   "cell_type": "code",
   "execution_count": 42,
   "id": "11367151-980f-42a5-9138-b853c1b2962d",
   "metadata": {},
   "outputs": [
    {
     "data": {
      "text/plain": [
       "0.5364806866952789"
      ]
     },
     "execution_count": 42,
     "metadata": {},
     "output_type": "execute_result"
    }
   ],
   "source": [
    "import math\n",
    "0.2/(0.2+0.8*math.pow(0.6,3))"
   ]
  },
  {
   "cell_type": "code",
   "execution_count": 3,
   "id": "da094cb0-6708-4dcc-8b9d-e64544478f13",
   "metadata": {},
   "outputs": [],
   "source": [
    "arr = np.array([[0,1,0,0], [1, 0, 0, 0], [1,1,1,1]])"
   ]
  },
  {
   "cell_type": "code",
   "execution_count": 4,
   "id": "fffa4436-7271-4250-9b9e-368a33ad5fec",
   "metadata": {},
   "outputs": [
    {
     "data": {
      "text/plain": [
       "array([[0, 1, 0, 0],\n",
       "       [1, 0, 0, 0],\n",
       "       [1, 1, 1, 1]])"
      ]
     },
     "execution_count": 4,
     "metadata": {},
     "output_type": "execute_result"
    }
   ],
   "source": [
    "arr"
   ]
  },
  {
   "cell_type": "code",
   "execution_count": 7,
   "id": "88aa74a7-7a3c-4f9e-bb7e-cade556d7425",
   "metadata": {},
   "outputs": [
    {
     "data": {
      "text/plain": [
       "array([1, 0, 2, 2])"
      ]
     },
     "execution_count": 7,
     "metadata": {},
     "output_type": "execute_result"
    }
   ],
   "source": [
    "np.argmax(arr, axis=0)"
   ]
  },
  {
   "cell_type": "code",
   "execution_count": 11,
   "id": "94fdaf11-7292-4df2-9401-3a42d0a8247c",
   "metadata": {},
   "outputs": [
    {
     "data": {
      "text/plain": [
       "array([1, 0, 2])"
      ]
     },
     "execution_count": 11,
     "metadata": {},
     "output_type": "execute_result"
    }
   ],
   "source": [
    "np.random.permutation(arr.shape[0])"
   ]
  },
  {
   "cell_type": "code",
   "execution_count": null,
   "id": "2f771311-fc93-43a6-b187-09ee0eacab6f",
   "metadata": {},
   "outputs": [],
   "source": []
  }
 ],
 "metadata": {
  "kernelspec": {
   "display_name": "Python 3 (ipykernel)",
   "language": "python",
   "name": "python3"
  },
  "language_info": {
   "codemirror_mode": {
    "name": "ipython",
    "version": 3
   },
   "file_extension": ".py",
   "mimetype": "text/x-python",
   "name": "python",
   "nbconvert_exporter": "python",
   "pygments_lexer": "ipython3",
   "version": "3.12.9"
  }
 },
 "nbformat": 4,
 "nbformat_minor": 5
}
