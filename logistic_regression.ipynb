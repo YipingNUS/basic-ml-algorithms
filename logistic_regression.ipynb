{
 "cells": [
  {
   "cell_type": "code",
   "execution_count": 4,
   "id": "23ac380e-292e-489c-9435-133980d9b61a",
   "metadata": {},
   "outputs": [],
   "source": [
    "import numpy as np\n",
    "import matplotlib.pyplot as plt"
   ]
  },
  {
   "cell_type": "code",
   "execution_count": 12,
   "id": "178030bc-c866-44aa-b569-73c061a6453c",
   "metadata": {},
   "outputs": [],
   "source": [
    "def generate_data(n:int, d: int):\n",
    "    X = np.random.randn(n,d)\n",
    "    W_oracle = np.random.randn(d)\n",
    "    b = np.random.randn(1)\n",
    "    print(f\"True W: {W_oracle}, True b: {b}\")\n",
    "    Y_oracle = X.dot(W_oracle) + b + 0.05*np.random.randn(n)\n",
    "    Y_oracle = (1/(1+np.exp(-1*Y_oracle)) > 0.5).astype(int)\n",
    "    return X,Y_oracle"
   ]
  },
  {
   "cell_type": "code",
   "execution_count": 17,
   "id": "e8caaf45-07fd-4286-8a52-416ce69b84ad",
   "metadata": {},
   "outputs": [
    {
     "name": "stdout",
     "output_type": "stream",
     "text": [
      "True W: [-1.42126425], True b: [-1.42019238]\n"
     ]
    }
   ],
   "source": [
    "X, Y = generate_data(20000, 1)"
   ]
  },
  {
   "cell_type": "code",
   "execution_count": 18,
   "id": "b8664b0b-3ce6-4b47-9991-30b478c1bec1",
   "metadata": {},
   "outputs": [
    {
     "data": {
      "text/plain": [
       "<matplotlib.collections.PathCollection at 0x107b35b80>"
      ]
     },
     "execution_count": 18,
     "metadata": {},
     "output_type": "execute_result"
    },
    {
     "data": {
      "image/png": "[encoded data removed]",
      "text/plain": [
       "<Figure size 640x480 with 1 Axes>"
      ]
     },
     "metadata": {},
     "output_type": "display_data"
    }
   ],
   "source": [
    "plt.scatter(X, Y)"
   ]
  },
  {
   "cell_type": "code",
   "execution_count": 6,
   "id": "98be95a3-b165-48e2-b120-1dbd96567263",
   "metadata": {},
   "outputs": [
    {
     "name": "stdout",
     "output_type": "stream",
     "text": [
      "True W: [ 0.30214889  1.04535201 -3.24039072 -0.5421496   1.12179256 -0.11516384\n",
      " -0.64320492  1.28177563 -2.41221024 -1.77545692], True b: [0.49152349]\n"
     ]
    }
   ],
   "source": [
    "X, Y = generate_data(20000, 10)"
   ]
  },
  {
   "cell_type": "code",
   "execution_count": 19,
   "id": "e28c1246-8eea-46b6-9eb4-376b1e7ccaae",
   "metadata": {},
   "outputs": [],
   "source": [
    "class LogisticRegression:\n",
    "    def __init__(self, d):\n",
    "        self.w = np.random.randn(d)\n",
    "        self.b = np.random.randn(1)\n",
    "\n",
    "    def forward(self, X_batch):\n",
    "        z = X_batch.dot(self.w)+ self.b\n",
    "        return 1/(1+np.exp(-z))\n",
    "\n",
    "    def backward(self, X_batch, Y_pred, Y, bs):\n",
    "        loss = -1*np.sum(np.log(np.where(Y, Y_pred, 1-Y_pred)))/bs\n",
    "        gradient_w = np.dot(X_batch.T, (Y_pred.T - Y))\n",
    "        gradient_b = np.sum((Y_pred.T - Y))\n",
    "        return gradient_w, gradient_b\n",
    "        \n",
    "    def train(self, X, Y, lr=0.1, bs=32, epochs=10):\n",
    "        n = X.shape[0]\n",
    "        for _ in range(epochs):\n",
    "            p = np.random.permutation(len(X))\n",
    "            X = X[p]\n",
    "            Y = Y[p]\n",
    "            for i in range(0, n, bs):\n",
    "                X_batch = X[i*bs:i*bs+bs]\n",
    "                Y_batch = Y[i*bs:i*bs+bs]\n",
    "                self.train_step(X_batch, Y_batch, lr, bs)\n",
    "\n",
    "    def train_step(self, X_batch, Y_batch, lr, bs):\n",
    "        Y_pred = self.forward(X_batch)\n",
    "        gradient_w, gradient_b = self.backward(X_batch, Y_pred, Y_batch, bs)\n",
    "        self.w -= lr * gradient_w\n",
    "        self.b -= lr * gradient_b"
   ]
  },
  {
   "cell_type": "code",
   "execution_count": 20,
   "id": "3ed9d126-3ed5-4544-9678-0f43c486a96e",
   "metadata": {},
   "outputs": [],
   "source": [
    "model = LogisticRegression(d=1)"
   ]
  },
  {
   "cell_type": "code",
   "execution_count": 21,
   "id": "294669bb-bc7d-4d9a-abd1-163335815a04",
   "metadata": {},
   "outputs": [
    {
     "data": {
      "text/plain": [
       "(array([-0.1854736]), array([-0.64121247]))"
      ]
     },
     "execution_count": 21,
     "metadata": {},
     "output_type": "execute_result"
    }
   ],
   "source": [
    "model.w, model.b"
   ]
  },
  {
   "cell_type": "code",
   "execution_count": 22,
   "id": "c767dd4f-f26c-43dd-86d8-a6c58d45d7e0",
   "metadata": {},
   "outputs": [],
   "source": [
    "model.train(X, Y, epochs=50)"
   ]
  },
  {
   "cell_type": "code",
   "execution_count": 23,
   "id": "008156aa-5a28-4758-a6b8-7afaacdbbe83",
   "metadata": {},
   "outputs": [
    {
     "data": {
      "text/plain": [
       "(array([-12.49035925]), array([-12.17005324]))"
      ]
     },
     "execution_count": 23,
     "metadata": {},
     "output_type": "execute_result"
    }
   ],
   "source": [
    "model.w, model.b"
   ]
  },
  {
   "cell_type": "code",
   "execution_count": null,
   "id": "e2a7ce88-da2e-406e-9529-edaae730905e",
   "metadata": {},
   "outputs": [],
   "source": []
  }
 ],
 "metadata": {
  "kernelspec": {
   "display_name": "Python 3 (ipykernel)",
   "language": "python",
   "name": "python3"
  },
  "language_info": {
   "codemirror_mode": {
    "name": "ipython",
    "version": 3
   },
   "file_extension": ".py",
   "mimetype": "text/x-python",
   "name": "python",
   "nbconvert_exporter": "python",
   "pygments_lexer": "ipython3",
   "version": "3.12.9"
  }
 },
 "nbformat": 4,
 "nbformat_minor": 5
}
