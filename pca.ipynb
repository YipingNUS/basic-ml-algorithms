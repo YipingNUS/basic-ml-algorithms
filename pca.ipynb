{
 "cells": [
  {
   "cell_type": "code",
   "execution_count": 1,
   "id": "0cd63dd6-a25b-41fb-ab11-27351659adff",
   "metadata": {},
   "outputs": [],
   "source": [
    "import numpy as np"
   ]
  },
  {
   "cell_type": "code",
   "execution_count": 37,
   "id": "c0552e0f-e1e8-435a-ae06-d7662e4a73e4",
   "metadata": {},
   "outputs": [],
   "source": [
    "# matrix representation of the data - has shape (n, d)\n",
    "data = np.array([\n",
    "    [   1,   2,  -1,   4,  10],\n",
    "    [   3,  -3,  -3,  12, -15],\n",
    "    [   2,   1,  -2,   4,   5],\n",
    "    [   5,   1,  -5,  10,   5],\n",
    "    [   2,   3,  -3,   5,  12],\n",
    "    [   4,   0,  -3,  16,   2],\n",
    "])"
   ]
  },
  {
   "cell_type": "code",
   "execution_count": 57,
   "id": "19d39fd2-326a-41b8-8f80-535a8bd99f25",
   "metadata": {},
   "outputs": [],
   "source": [
    "class PCA:\n",
    "    def __init__(self, k=2):\n",
    "        self.k = 2\n",
    "\n",
    "    def transform(self, data):\n",
    "        standardized_data = (data - data.mean(axis=0))/data.std(axis=0)\n",
    "        # use `ddof = 1` if using sample data (default assumption) and use `ddof = 0` if using population data\n",
    "        covariance_matrix = np.cov(standardized_data, ddof=1, rowvar=False)\n",
    "        # the column eigenvectors[:,i] is the eigenvector corresponding to the eigenvalue eigenvalues[i].\n",
    "        eigen_values, eigen_vectors = np.linalg.eig(covariance_matrix)\n",
    "        # utilize the sort order to sort eigenvalues and eigenvectors\n",
    "        sort_order = np.argsort(eigenvalues)[::-1]\n",
    "        sorted_eigen_values = eigen_values[sort_order]\n",
    "        sorted_eigen_vectors = eigen_vectors[:,sort_order]  # sort the columns\n",
    "        explained_variance = sorted_eigen_values/np.sum(eigen_values)\n",
    "        print(f\"Explained variance: {np.sum(explained_variance[:self.k])}\")\n",
    "        return np.matmul(standardized_data, sorted_eigen_vectors[:,:k])"
   ]
  },
  {
   "cell_type": "code",
   "execution_count": 58,
   "id": "598db859-d21b-47b9-88bc-c1c14b7845a5",
   "metadata": {},
   "outputs": [],
   "source": [
    "pca = PCA()"
   ]
  },
  {
   "cell_type": "code",
   "execution_count": 59,
   "id": "8f50c258-63c7-4469-8bce-9992d28f59fd",
   "metadata": {},
   "outputs": [
    {
     "name": "stdout",
     "output_type": "stream",
     "text": [
      "Explained variance: 0.9244022929534579\n"
     ]
    },
    {
     "data": {
      "text/plain": [
       "array([[ 2.3577116 , -0.75728867],\n",
       "       [-2.27171739, -1.81970663],\n",
       "       [ 1.21259114, -0.50390931],\n",
       "       [-1.41935914,  1.9229856 ],\n",
       "       [ 1.61562536,  0.87541857],\n",
       "       [-1.49485157,  0.28250044]])"
      ]
     },
     "execution_count": 59,
     "metadata": {},
     "output_type": "execute_result"
    }
   ],
   "source": [
    "pca.transform(data)"
   ]
  },
  {
   "cell_type": "code",
   "execution_count": null,
   "id": "b6523bee-7985-4fa5-86d3-ebb0732773bb",
   "metadata": {},
   "outputs": [],
   "source": []
  }
 ],
 "metadata": {
  "kernelspec": {
   "display_name": "Python 3 (ipykernel)",
   "language": "python",
   "name": "python3"
  },
  "language_info": {
   "codemirror_mode": {
    "name": "ipython",
    "version": 3
   },
   "file_extension": ".py",
   "mimetype": "text/x-python",
   "name": "python",
   "nbconvert_exporter": "python",
   "pygments_lexer": "ipython3",
   "version": "3.12.9"
  }
 },
 "nbformat": 4,
 "nbformat_minor": 5
}
