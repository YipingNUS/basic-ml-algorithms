{
 "cells": [
  {
   "cell_type": "code",
   "execution_count": 25,
   "id": "407fa8f8-b5e4-45b6-b3bb-d84008496674",
   "metadata": {},
   "outputs": [],
   "source": [
    "import numpy as np\n",
    "from collections import Counter"
   ]
  },
  {
   "cell_type": "code",
   "execution_count": 43,
   "id": "a474ce98-ec83-4cae-8abf-d9d878dae967",
   "metadata": {},
   "outputs": [],
   "source": [
    "class KNearestNeighbor:\n",
    "    def __init__(self, data: np.array, label: np.array, k: int=7) -> None:\n",
    "        self.k = k\n",
    "        self.data = data\n",
    "        self.label = label \n",
    "\n",
    "    def classify(self, query: np.array) ->int:\n",
    "        dist = np.sum((X-query)**2, axis=1)\n",
    "        sort_order = np.argsort(dist)\n",
    "        labels = self.label[sort_order[:self.k]]\n",
    "        print(labels)\n",
    "        print(self.data[sort_order[:self.k]])\n",
    "        labels = Counter(labels)\n",
    "        return "
   ]
  },
  {
   "cell_type": "code",
   "execution_count": 44,
   "id": "c24621b8-541c-4fc7-ad75-c3df91cdbd2f",
   "metadata": {},
   "outputs": [],
   "source": [
    "model = KNearestNeighbor(X, Y)"
   ]
  },
  {
   "cell_type": "code",
   "execution_count": 45,
   "id": "4136d6c9-5264-4d06-b169-e364c62416bf",
   "metadata": {},
   "outputs": [
    {
     "name": "stdout",
     "output_type": "stream",
     "text": [
      "query: [-0.63920056 -2.13356424]\n",
      "[0 0 0 0 0 1 0]\n",
      "[[-0.67442902 -1.93773134]\n",
      " [-0.37467554 -2.19698199]\n",
      " [-0.66956978 -1.86016183]\n",
      " [-0.80574761 -1.87770919]\n",
      " [-0.35760153 -2.25575863]\n",
      " [-0.95307251 -1.98993285]\n",
      " [-0.86947701 -1.86948461]]\n"
     ]
    }
   ],
   "source": [
    "query = np.random.randn(2)\n",
    "print(f\"query: {query}\")\n",
    "model.classify(query)"
   ]
  },
  {
   "cell_type": "code",
   "execution_count": null,
   "id": "17fd904c-6709-4e30-ab0b-48f624f3351c",
   "metadata": {},
   "outputs": [],
   "source": []
  }
 ],
 "metadata": {
  "kernelspec": {
   "display_name": "Python 3 (ipykernel)",
   "language": "python",
   "name": "python3"
  },
  "language_info": {
   "codemirror_mode": {
    "name": "ipython",
    "version": 3
   },
   "file_extension": ".py",
   "mimetype": "text/x-python",
   "name": "python",
   "nbconvert_exporter": "python",
   "pygments_lexer": "ipython3",
   "version": "3.12.9"
  }
 },
 "nbformat": 4,
 "nbformat_minor": 5
}
