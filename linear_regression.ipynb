{
 "cells": [
  {
   "cell_type": "code",
   "execution_count": 1,
   "id": "23ac380e-292e-489c-9435-133980d9b61a",
   "metadata": {},
   "outputs": [],
   "source": [
    "import numpy as np\n",
    "import matplotlib.pyplot as plt"
   ]
  },
  {
   "cell_type": "code",
   "execution_count": 2,
   "id": "178030bc-c866-44aa-b569-73c061a6453c",
   "metadata": {},
   "outputs": [],
   "source": [
    "def generate_data(n:int, d: int):\n",
    "    X = np.random.randn(n,d)\n",
    "    W_oracle = np.random.randint(low=-10, high=10, size=d)\n",
    "    b = np.random.randint(low=-10, high=10)\n",
    "    print(f\"True W: {W_oracle}, True b: {b}\")\n",
    "    Y_oracle = X.dot(W_oracle) + b + 0.3*np.random.randn(n)\n",
    "    return X,Y_oracle"
   ]
  },
  {
   "cell_type": "code",
   "execution_count": 5,
   "id": "40de6bf6-32c1-431b-b235-563deeabd768",
   "metadata": {},
   "outputs": [
    {
     "name": "stdout",
     "output_type": "stream",
     "text": [
      "True W: [-3], True b: -6\n"
     ]
    }
   ],
   "source": [
    "X, Y = generate_data(200, 1)"
   ]
  },
  {
   "cell_type": "code",
   "execution_count": 6,
   "id": "b8664b0b-3ce6-4b47-9991-30b478c1bec1",
   "metadata": {},
   "outputs": [
    {
     "data": {
      "text/plain": [
       "<matplotlib.collections.PathCollection at 0x121fecf80>"
      ]
     },
     "execution_count": 6,
     "metadata": {},
     "output_type": "execute_result"
    },
    {
     "data": {
      "image/png": "[encoded data removed]",
      "text/plain": [
       "<Figure size 640x480 with 1 Axes>"
      ]
     },
     "metadata": {},
     "output_type": "display_data"
    }
   ],
   "source": [
    "plt.scatter(X, Y)"
   ]
  },
  {
   "cell_type": "code",
   "execution_count": 7,
   "id": "98be95a3-b165-48e2-b120-1dbd96567263",
   "metadata": {},
   "outputs": [
    {
     "name": "stdout",
     "output_type": "stream",
     "text": [
      "True W: [-5 -7  0  0 -6 -3 -8  5  3  8], True b: 4\n"
     ]
    }
   ],
   "source": [
    "X, Y = generate_data(20000, 10)"
   ]
  },
  {
   "cell_type": "code",
   "execution_count": 15,
   "id": "e28c1246-8eea-46b6-9eb4-376b1e7ccaae",
   "metadata": {},
   "outputs": [],
   "source": [
    "class LinearRegression:\n",
    "    def __init__(self, d):\n",
    "        self.w = np.random.randn(d)\n",
    "        self.b = np.random.randn(1)\n",
    "\n",
    "    def train(self, X, Y, lr=0.01, bs=32, epochs=10):\n",
    "        n = X.shape[0]\n",
    "        for _ in range(epochs):\n",
    "            p = np.random.permutation(len(X))\n",
    "            X = X[p]\n",
    "            Y = Y[p]\n",
    "            for i in range(0, n, bs):\n",
    "                X_batch = X[i*bs:i*bs+bs]\n",
    "                Y_batch = Y[i*bs:i*bs+bs]\n",
    "                self.train_step(X_batch, Y_batch, lr, bs)\n",
    "\n",
    "    def train_step(self, X_batch, Y_batch, lr, bs):\n",
    "        Y_pred = X_batch.dot(self.w)+ self.b\n",
    "        mse = np.sum((Y_pred - Y_batch)**2)/bs\n",
    "        gradient_w = 2*(Y_pred-Y_batch).dot(X_batch)/bs\n",
    "        gradient_b = 2*np.sum((Y_pred.T-Y_batch))/bs\n",
    "        self.w -= lr * gradient_w\n",
    "        self.b -= lr * gradient_b"
   ]
  },
  {
   "cell_type": "code",
   "execution_count": 16,
   "id": "3ed9d126-3ed5-4544-9678-0f43c486a96e",
   "metadata": {},
   "outputs": [],
   "source": [
    "model = LinearRegression(d=10)"
   ]
  },
  {
   "cell_type": "code",
   "execution_count": 17,
   "id": "294669bb-bc7d-4d9a-abd1-163335815a04",
   "metadata": {},
   "outputs": [
    {
     "data": {
      "text/plain": [
       "(array([ 0.8460085 ,  1.12973738,  1.18216541,  0.46198568, -2.94019205,\n",
       "         1.82733265,  1.17271332, -1.07106091,  1.19637457, -0.3301066 ]),\n",
       " array([0.52358001]))"
      ]
     },
     "execution_count": 17,
     "metadata": {},
     "output_type": "execute_result"
    }
   ],
   "source": [
    "model.w, model.b"
   ]
  },
  {
   "cell_type": "code",
   "execution_count": 18,
   "id": "c767dd4f-f26c-43dd-86d8-a6c58d45d7e0",
   "metadata": {},
   "outputs": [],
   "source": [
    "model.train(X, Y)"
   ]
  },
  {
   "cell_type": "code",
   "execution_count": 19,
   "id": "008156aa-5a28-4758-a6b8-7afaacdbbe83",
   "metadata": {},
   "outputs": [
    {
     "data": {
      "text/plain": [
       "(array([-4.94987252, -6.87283818,  0.02861761,  0.01936419, -5.92535928,\n",
       "        -2.90819985, -7.85649657,  4.91238154,  2.95105104,  7.87700298]),\n",
       " array([3.96249753]))"
      ]
     },
     "execution_count": 19,
     "metadata": {},
     "output_type": "execute_result"
    }
   ],
   "source": [
    "model.w, model.b"
   ]
  },
  {
   "cell_type": "code",
   "execution_count": 109,
   "id": "f4469b5e-42b2-420c-9d59-557fb1ae8138",
   "metadata": {},
   "outputs": [
    {
     "data": {
      "text/plain": [
       "array([ 1, -1, -1])"
      ]
     },
     "execution_count": 109,
     "metadata": {},
     "output_type": "execute_result"
    }
   ],
   "source": [
    "True W: [-5 -7  0  0 -6 -3 -8  5  3  8], True b: 4"
   ]
  },
  {
   "cell_type": "code",
   "execution_count": null,
   "id": "bc715f5b-0732-4ed6-8393-d72dc3d85392",
   "metadata": {},
   "outputs": [],
   "source": []
  }
 ],
 "metadata": {
  "kernelspec": {
   "display_name": "Python 3 (ipykernel)",
   "language": "python",
   "name": "python3"
  },
  "language_info": {
   "codemirror_mode": {
    "name": "ipython",
    "version": 3
   },
   "file_extension": ".py",
   "mimetype": "text/x-python",
   "name": "python",
   "nbconvert_exporter": "python",
   "pygments_lexer": "ipython3",
   "version": "3.12.9"
  }
 },
 "nbformat": 4,
 "nbformat_minor": 5
}
